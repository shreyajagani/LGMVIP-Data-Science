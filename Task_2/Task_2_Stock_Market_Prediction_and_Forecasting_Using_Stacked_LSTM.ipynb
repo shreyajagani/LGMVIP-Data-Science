{
 "cells": [
  {
   "cell_type": "markdown",
   "metadata": {},
   "source": [
    "# Shreya Jagani - Data Science intern at LetsGrowMore Virtual Internship Program (October - 2022)\n",
    "\n",
    "# Beginner level Task 2 : Stock Market Prediction and Forecasting Using Stacked LSTM\n",
    "\n",
    "# Algorithm Used : Long Short Term Memory"
   ]
  },
  {
   "cell_type": "markdown",
   "metadata": {},
   "source": [
    "**Import Libraries**"
   ]
  },
  {
   "cell_type": "code",
   "execution_count": 16,
   "metadata": {},
   "outputs": [],
   "source": [
    "import pandas as pd\n",
    "import numpy as np\n",
    "import matplotlib.pyplot as plt"
   ]
  },
  {
   "cell_type": "markdown",
   "metadata": {},
   "source": [
    "**Load Dataset**"
   ]
  },
  {
   "cell_type": "code",
   "execution_count": 10,
   "metadata": {},
   "outputs": [
    {
     "data": {
      "text/html": [
       "<div>\n",
       "<style scoped>\n",
       "    .dataframe tbody tr th:only-of-type {\n",
       "        vertical-align: middle;\n",
       "    }\n",
       "\n",
       "    .dataframe tbody tr th {\n",
       "        vertical-align: top;\n",
       "    }\n",
       "\n",
       "    .dataframe thead th {\n",
       "        text-align: right;\n",
       "    }\n",
       "</style>\n",
       "<table border=\"1\" class=\"dataframe\">\n",
       "  <thead>\n",
       "    <tr style=\"text-align: right;\">\n",
       "      <th></th>\n",
       "      <th>Date</th>\n",
       "      <th>Open</th>\n",
       "      <th>High</th>\n",
       "      <th>Low</th>\n",
       "      <th>Last</th>\n",
       "      <th>Close</th>\n",
       "      <th>Total Trade Quantity</th>\n",
       "      <th>Turnover (Lacs)</th>\n",
       "    </tr>\n",
       "  </thead>\n",
       "  <tbody>\n",
       "    <tr>\n",
       "      <th>0</th>\n",
       "      <td>2018-09-28</td>\n",
       "      <td>234.05</td>\n",
       "      <td>235.95</td>\n",
       "      <td>230.20</td>\n",
       "      <td>233.50</td>\n",
       "      <td>233.75</td>\n",
       "      <td>3069914</td>\n",
       "      <td>7162.35</td>\n",
       "    </tr>\n",
       "    <tr>\n",
       "      <th>1</th>\n",
       "      <td>2018-09-27</td>\n",
       "      <td>234.55</td>\n",
       "      <td>236.80</td>\n",
       "      <td>231.10</td>\n",
       "      <td>233.80</td>\n",
       "      <td>233.25</td>\n",
       "      <td>5082859</td>\n",
       "      <td>11859.95</td>\n",
       "    </tr>\n",
       "    <tr>\n",
       "      <th>2</th>\n",
       "      <td>2018-09-26</td>\n",
       "      <td>240.00</td>\n",
       "      <td>240.00</td>\n",
       "      <td>232.50</td>\n",
       "      <td>235.00</td>\n",
       "      <td>234.25</td>\n",
       "      <td>2240909</td>\n",
       "      <td>5248.60</td>\n",
       "    </tr>\n",
       "    <tr>\n",
       "      <th>3</th>\n",
       "      <td>2018-09-25</td>\n",
       "      <td>233.30</td>\n",
       "      <td>236.75</td>\n",
       "      <td>232.00</td>\n",
       "      <td>236.25</td>\n",
       "      <td>236.10</td>\n",
       "      <td>2349368</td>\n",
       "      <td>5503.90</td>\n",
       "    </tr>\n",
       "    <tr>\n",
       "      <th>4</th>\n",
       "      <td>2018-09-24</td>\n",
       "      <td>233.55</td>\n",
       "      <td>239.20</td>\n",
       "      <td>230.75</td>\n",
       "      <td>234.00</td>\n",
       "      <td>233.30</td>\n",
       "      <td>3423509</td>\n",
       "      <td>7999.55</td>\n",
       "    </tr>\n",
       "  </tbody>\n",
       "</table>\n",
       "</div>"
      ],
      "text/plain": [
       "         Date    Open    High     Low    Last   Close  Total Trade Quantity  \\\n",
       "0  2018-09-28  234.05  235.95  230.20  233.50  233.75               3069914   \n",
       "1  2018-09-27  234.55  236.80  231.10  233.80  233.25               5082859   \n",
       "2  2018-09-26  240.00  240.00  232.50  235.00  234.25               2240909   \n",
       "3  2018-09-25  233.30  236.75  232.00  236.25  236.10               2349368   \n",
       "4  2018-09-24  233.55  239.20  230.75  234.00  233.30               3423509   \n",
       "\n",
       "   Turnover (Lacs)  \n",
       "0          7162.35  \n",
       "1         11859.95  \n",
       "2          5248.60  \n",
       "3          5503.90  \n",
       "4          7999.55  "
      ]
     },
     "execution_count": 10,
     "metadata": {},
     "output_type": "execute_result"
    }
   ],
   "source": [
    "df= pd.read_csv(\"stock.csv\")\n",
    "df.head()"
   ]
  },
  {
   "cell_type": "code",
   "execution_count": 11,
   "metadata": {},
   "outputs": [
    {
     "name": "stdout",
     "output_type": "stream",
     "text": [
      "Date                    0\n",
      "Open                    0\n",
      "High                    0\n",
      "Low                     0\n",
      "Last                    0\n",
      "Close                   0\n",
      "Total Trade Quantity    0\n",
      "Turnover (Lacs)         0\n",
      "dtype: int64\n"
     ]
    }
   ],
   "source": [
    "print(df.isnull().sum())"
   ]
  },
  {
   "cell_type": "code",
   "execution_count": 12,
   "metadata": {},
   "outputs": [
    {
     "data": {
      "text/html": [
       "<div>\n",
       "<style scoped>\n",
       "    .dataframe tbody tr th:only-of-type {\n",
       "        vertical-align: middle;\n",
       "    }\n",
       "\n",
       "    .dataframe tbody tr th {\n",
       "        vertical-align: top;\n",
       "    }\n",
       "\n",
       "    .dataframe thead th {\n",
       "        text-align: right;\n",
       "    }\n",
       "</style>\n",
       "<table border=\"1\" class=\"dataframe\">\n",
       "  <thead>\n",
       "    <tr style=\"text-align: right;\">\n",
       "      <th></th>\n",
       "      <th>Open</th>\n",
       "      <th>High</th>\n",
       "      <th>Low</th>\n",
       "      <th>Last</th>\n",
       "      <th>Close</th>\n",
       "      <th>Total Trade Quantity</th>\n",
       "      <th>Turnover (Lacs)</th>\n",
       "    </tr>\n",
       "  </thead>\n",
       "  <tbody>\n",
       "    <tr>\n",
       "      <th>count</th>\n",
       "      <td>2035.000000</td>\n",
       "      <td>2035.000000</td>\n",
       "      <td>2035.000000</td>\n",
       "      <td>2035.000000</td>\n",
       "      <td>2035.00000</td>\n",
       "      <td>2.035000e+03</td>\n",
       "      <td>2035.000000</td>\n",
       "    </tr>\n",
       "    <tr>\n",
       "      <th>mean</th>\n",
       "      <td>149.713735</td>\n",
       "      <td>151.992826</td>\n",
       "      <td>147.293931</td>\n",
       "      <td>149.474251</td>\n",
       "      <td>149.45027</td>\n",
       "      <td>2.335681e+06</td>\n",
       "      <td>3899.980565</td>\n",
       "    </tr>\n",
       "    <tr>\n",
       "      <th>std</th>\n",
       "      <td>48.664509</td>\n",
       "      <td>49.413109</td>\n",
       "      <td>47.931958</td>\n",
       "      <td>48.732570</td>\n",
       "      <td>48.71204</td>\n",
       "      <td>2.091778e+06</td>\n",
       "      <td>4570.767877</td>\n",
       "    </tr>\n",
       "    <tr>\n",
       "      <th>min</th>\n",
       "      <td>81.100000</td>\n",
       "      <td>82.800000</td>\n",
       "      <td>80.000000</td>\n",
       "      <td>81.000000</td>\n",
       "      <td>80.95000</td>\n",
       "      <td>3.961000e+04</td>\n",
       "      <td>37.040000</td>\n",
       "    </tr>\n",
       "    <tr>\n",
       "      <th>25%</th>\n",
       "      <td>120.025000</td>\n",
       "      <td>122.100000</td>\n",
       "      <td>118.300000</td>\n",
       "      <td>120.075000</td>\n",
       "      <td>120.05000</td>\n",
       "      <td>1.146444e+06</td>\n",
       "      <td>1427.460000</td>\n",
       "    </tr>\n",
       "    <tr>\n",
       "      <th>50%</th>\n",
       "      <td>141.500000</td>\n",
       "      <td>143.400000</td>\n",
       "      <td>139.600000</td>\n",
       "      <td>141.100000</td>\n",
       "      <td>141.25000</td>\n",
       "      <td>1.783456e+06</td>\n",
       "      <td>2512.030000</td>\n",
       "    </tr>\n",
       "    <tr>\n",
       "      <th>75%</th>\n",
       "      <td>157.175000</td>\n",
       "      <td>159.400000</td>\n",
       "      <td>155.150000</td>\n",
       "      <td>156.925000</td>\n",
       "      <td>156.90000</td>\n",
       "      <td>2.813594e+06</td>\n",
       "      <td>4539.015000</td>\n",
       "    </tr>\n",
       "    <tr>\n",
       "      <th>max</th>\n",
       "      <td>327.700000</td>\n",
       "      <td>328.750000</td>\n",
       "      <td>321.650000</td>\n",
       "      <td>325.950000</td>\n",
       "      <td>325.75000</td>\n",
       "      <td>2.919102e+07</td>\n",
       "      <td>55755.080000</td>\n",
       "    </tr>\n",
       "  </tbody>\n",
       "</table>\n",
       "</div>"
      ],
      "text/plain": [
       "              Open         High          Low         Last       Close  \\\n",
       "count  2035.000000  2035.000000  2035.000000  2035.000000  2035.00000   \n",
       "mean    149.713735   151.992826   147.293931   149.474251   149.45027   \n",
       "std      48.664509    49.413109    47.931958    48.732570    48.71204   \n",
       "min      81.100000    82.800000    80.000000    81.000000    80.95000   \n",
       "25%     120.025000   122.100000   118.300000   120.075000   120.05000   \n",
       "50%     141.500000   143.400000   139.600000   141.100000   141.25000   \n",
       "75%     157.175000   159.400000   155.150000   156.925000   156.90000   \n",
       "max     327.700000   328.750000   321.650000   325.950000   325.75000   \n",
       "\n",
       "       Total Trade Quantity  Turnover (Lacs)  \n",
       "count          2.035000e+03      2035.000000  \n",
       "mean           2.335681e+06      3899.980565  \n",
       "std            2.091778e+06      4570.767877  \n",
       "min            3.961000e+04        37.040000  \n",
       "25%            1.146444e+06      1427.460000  \n",
       "50%            1.783456e+06      2512.030000  \n",
       "75%            2.813594e+06      4539.015000  \n",
       "max            2.919102e+07     55755.080000  "
      ]
     },
     "execution_count": 12,
     "metadata": {},
     "output_type": "execute_result"
    }
   ],
   "source": [
    "df.describe()"
   ]
  },
  {
   "cell_type": "code",
   "execution_count": 13,
   "metadata": {},
   "outputs": [],
   "source": [
    "stock_data=df.reset_index()['Close']"
   ]
  },
  {
   "cell_type": "code",
   "execution_count": 14,
   "metadata": {},
   "outputs": [
    {
     "data": {
      "text/plain": [
       "(2035,)"
      ]
     },
     "execution_count": 14,
     "metadata": {},
     "output_type": "execute_result"
    }
   ],
   "source": [
    "stock_data.shape"
   ]
  },
  {
   "cell_type": "code",
   "execution_count": 15,
   "metadata": {},
   "outputs": [
    {
     "name": "stdout",
     "output_type": "stream",
     "text": [
      "<class 'pandas.core.frame.DataFrame'>\n",
      "RangeIndex: 2035 entries, 0 to 2034\n",
      "Data columns (total 8 columns):\n",
      " #   Column                Non-Null Count  Dtype  \n",
      "---  ------                --------------  -----  \n",
      " 0   Date                  2035 non-null   object \n",
      " 1   Open                  2035 non-null   float64\n",
      " 2   High                  2035 non-null   float64\n",
      " 3   Low                   2035 non-null   float64\n",
      " 4   Last                  2035 non-null   float64\n",
      " 5   Close                 2035 non-null   float64\n",
      " 6   Total Trade Quantity  2035 non-null   int64  \n",
      " 7   Turnover (Lacs)       2035 non-null   float64\n",
      "dtypes: float64(6), int64(1), object(1)\n",
      "memory usage: 127.3+ KB\n"
     ]
    }
   ],
   "source": [
    "df.info()"
   ]
  },
  {
   "cell_type": "markdown",
   "metadata": {},
   "source": [
    "**Plot the Dataframe**"
   ]
  },
  {
   "cell_type": "code",
   "execution_count": 17,
   "metadata": {},
   "outputs": [
    {
     "data": {
      "text/plain": [
       "[<matplotlib.lines.Line2D at 0x22f6a4ffb80>]"
      ]
     },
     "execution_count": 17,
     "metadata": {},
     "output_type": "execute_result"
    },
    {
     "data": {
      "image/png": "[encoded data removed]",
      "text/plain": [
       "<Figure size 432x288 with 1 Axes>"
      ]
     },
     "metadata": {
      "needs_background": "light"
     },
     "output_type": "display_data"
    }
   ],
   "source": [
    "plt.plot(stock_data)"
   ]
  },
  {
   "cell_type": "markdown",
   "metadata": {},
   "source": [
    "**Apply minmax scalar because LSTM are sesitive to the scale of data**"
   ]
  },
  {
   "cell_type": "code",
   "execution_count": 22,
   "metadata": {},
   "outputs": [],
   "source": [
    "from sklearn.preprocessing import MinMaxScaler\n",
    "scaler = MinMaxScaler(feature_range=(0,1))\n",
    "stock_data = scaler.fit_transform(np.array(stock_data).reshape(-1,1))"
   ]
  },
  {
   "cell_type": "code",
   "execution_count": 25,
   "metadata": {},
   "outputs": [
    {
     "data": {
      "text/plain": [
       "array([[0.62418301],\n",
       "       [0.62214052],\n",
       "       [0.62622549],\n",
       "       ...,\n",
       "       [0.1621732 ],\n",
       "       [0.16319444],\n",
       "       [0.16584967]])"
      ]
     },
     "execution_count": 25,
     "metadata": {},
     "output_type": "execute_result"
    }
   ],
   "source": [
    "stock_data"
   ]
  },
  {
   "cell_type": "markdown",
   "metadata": {},
   "source": [
    " **Splitting dataset into training and testing**"
   ]
  },
  {
   "cell_type": "code",
   "execution_count": 26,
   "metadata": {},
   "outputs": [],
   "source": [
    "training_size=int(len(stock_data)*0.65)\n",
    "test_size=len(stock_data)-training_size\n"
   ]
  },
  {
   "cell_type": "code",
   "execution_count": 27,
   "metadata": {},
   "outputs": [
    {
     "data": {
      "text/plain": [
       "(1322, 713)"
      ]
     },
     "execution_count": 27,
     "metadata": {},
     "output_type": "execute_result"
    }
   ],
   "source": [
    "training_size,test_size"
   ]
  },
  {
   "cell_type": "code",
   "execution_count": 28,
   "metadata": {},
   "outputs": [],
   "source": [
    "train_data,test_data=stock_data[0:training_size],stock_data[training_size:len(stock_data),:1]"
   ]
  },
  {
   "cell_type": "code",
   "execution_count": 29,
   "metadata": {},
   "outputs": [],
   "source": [
    "#Convert an array of values unto dataset matrix\n",
    "\n",
    "def create_dataset(dataset,time_step=1):\n",
    "    dataX,dataY=[],[] \n",
    "    for i in range(len(dataset)-time_step-1):\n",
    "        a=dataset[i:(i+time_step),0]\n",
    "        dataX.append(a)\n",
    "        dataY.append(dataset[i+time_step,0])\n",
    "    return np.array(dataX),np.array(dataY)"
   ]
  },
  {
   "cell_type": "code",
   "execution_count": 30,
   "metadata": {},
   "outputs": [],
   "source": [
    "time_step=100\n",
    "X_train,y_train=create_dataset(train_data,time_step)\n",
    "X_test,y_test=create_dataset(test_data,time_step)"
   ]
  },
  {
   "cell_type": "code",
   "execution_count": 31,
   "metadata": {},
   "outputs": [
    {
     "name": "stdout",
     "output_type": "stream",
     "text": [
      "[[0.62418301 0.62214052 0.62622549 ... 0.83455882 0.86213235 0.85273693]\n",
      " [0.62214052 0.62622549 0.63378268 ... 0.86213235 0.85273693 0.87111928]\n",
      " [0.62622549 0.63378268 0.62234477 ... 0.85273693 0.87111928 0.84497549]\n",
      " ...\n",
      " [0.34517974 0.31781046 0.33047386 ... 0.2816585  0.27001634 0.26531863]\n",
      " [0.31781046 0.33047386 0.32128268 ... 0.27001634 0.26531863 0.27389706]\n",
      " [0.33047386 0.32128268 0.34007353 ... 0.26531863 0.27389706 0.25347222]]\n"
     ]
    }
   ],
   "source": [
    "print(X_train)"
   ]
  },
  {
   "cell_type": "code",
   "execution_count": 33,
   "metadata": {},
   "outputs": [
    {
     "name": "stdout",
     "output_type": "stream",
     "text": [
      "(1221, 100)\n",
      "(1221,)\n"
     ]
    },
    {
     "data": {
      "text/plain": [
       "(None, None)"
      ]
     },
     "execution_count": 33,
     "metadata": {},
     "output_type": "execute_result"
    }
   ],
   "source": [
    "print(X_train.shape),print(y_train.shape)"
   ]
  },
  {
   "cell_type": "code",
   "execution_count": 34,
   "metadata": {},
   "outputs": [
    {
     "name": "stdout",
     "output_type": "stream",
     "text": [
      "(612, 100)\n",
      "(612,)\n"
     ]
    },
    {
     "data": {
      "text/plain": [
       "(None, None)"
      ]
     },
     "execution_count": 34,
     "metadata": {},
     "output_type": "execute_result"
    }
   ],
   "source": [
    "print(X_test.shape),print(y_test.shape)"
   ]
  },
  {
   "cell_type": "code",
   "execution_count": 35,
   "metadata": {},
   "outputs": [],
   "source": [
    "#reshape input\n",
    "X_train=X_train.reshape(X_train.shape[0],X_train.shape[1],1)\n",
    "X_test=X_test.reshape(X_test.shape[0],X_test.shape[1],1)"
   ]
  },
  {
   "cell_type": "markdown",
   "metadata": {},
   "source": [
    "**Creating LSTM Model**"
   ]
  },
  {
   "cell_type": "code",
   "execution_count": 37,
   "metadata": {},
   "outputs": [],
   "source": [
    "from tensorflow.keras.models import Sequential\n",
    "from tensorflow.keras.layers import Dense\n",
    "from tensorflow.keras.layers import LSTM"
   ]
  },
  {
   "cell_type": "code",
   "execution_count": 38,
   "metadata": {},
   "outputs": [],
   "source": [
    "from pickletools import optimize\n",
    "\n",
    "\n",
    "model=Sequential()\n",
    "model.add(LSTM(50,return_sequences=True,input_shape=(100,1)))\n",
    "model.add(LSTM(50,return_sequences=True))\n",
    "model.add(LSTM(50))\n",
    "model.add(Dense(1))\n",
    "model.compile(loss='mean_squared_error',optimizer='adam')"
   ]
  },
  {
   "cell_type": "code",
   "execution_count": 39,
   "metadata": {},
   "outputs": [
    {
     "name": "stdout",
     "output_type": "stream",
     "text": [
      "Model: \"sequential\"\n",
      "_________________________________________________________________\n",
      " Layer (type)                Output Shape              Param #   \n",
      "=================================================================\n",
      " lstm (LSTM)                 (None, 100, 50)           10400     \n",
      "                                                                 \n",
      " lstm_1 (LSTM)               (None, 100, 50)           20200     \n",
      "                                                                 \n",
      " lstm_2 (LSTM)               (None, 50)                20200     \n",
      "                                                                 \n",
      " dense (Dense)               (None, 1)                 51        \n",
      "                                                                 \n",
      "=================================================================\n",
      "Total params: 50,851\n",
      "Trainable params: 50,851\n",
      "Non-trainable params: 0\n",
      "_________________________________________________________________\n"
     ]
    }
   ],
   "source": [
    "model.summary()"
   ]
  },
  {
   "cell_type": "code",
   "execution_count": 42,
   "metadata": {},
   "outputs": [
    {
     "name": "stdout",
     "output_type": "stream",
     "text": [
      "Epoch 1/100\n",
      "20/20 [==============================] - 8s 414ms/step - loss: 2.3554e-04 - val_loss: 2.7590e-04\n",
      "Epoch 2/100\n",
      "20/20 [==============================] - 11s 532ms/step - loss: 2.5134e-04 - val_loss: 3.1231e-04\n",
      "Epoch 3/100\n",
      "20/20 [==============================] - 8s 415ms/step - loss: 2.8825e-04 - val_loss: 3.2767e-04\n",
      "Epoch 4/100\n",
      "20/20 [==============================] - 9s 431ms/step - loss: 2.9341e-04 - val_loss: 1.8618e-04\n",
      "Epoch 5/100\n",
      "20/20 [==============================] - 8s 407ms/step - loss: 3.1098e-04 - val_loss: 2.0467e-04\n",
      "Epoch 6/100\n",
      "20/20 [==============================] - 8s 420ms/step - loss: 2.2347e-04 - val_loss: 1.8147e-04\n",
      "Epoch 7/100\n",
      "20/20 [==============================] - 8s 413ms/step - loss: 2.2601e-04 - val_loss: 3.2266e-04\n",
      "Epoch 8/100\n",
      "20/20 [==============================] - 8s 407ms/step - loss: 3.3013e-04 - val_loss: 1.9508e-04\n",
      "Epoch 9/100\n",
      "20/20 [==============================] - 8s 416ms/step - loss: 2.1133e-04 - val_loss: 2.4033e-04\n",
      "Epoch 10/100\n",
      "20/20 [==============================] - 8s 418ms/step - loss: 2.2681e-04 - val_loss: 1.8310e-04\n",
      "Epoch 11/100\n",
      "20/20 [==============================] - 11s 532ms/step - loss: 2.0645e-04 - val_loss: 1.7529e-04\n",
      "Epoch 12/100\n",
      "20/20 [==============================] - 12s 619ms/step - loss: 2.0284e-04 - val_loss: 2.1020e-04\n",
      "Epoch 13/100\n",
      "20/20 [==============================] - 8s 411ms/step - loss: 2.0060e-04 - val_loss: 1.8764e-04\n",
      "Epoch 14/100\n",
      "20/20 [==============================] - 7s 374ms/step - loss: 2.0613e-04 - val_loss: 2.1569e-04\n",
      "Epoch 15/100\n",
      "20/20 [==============================] - 8s 396ms/step - loss: 2.2409e-04 - val_loss: 2.0425e-04\n",
      "Epoch 16/100\n",
      "20/20 [==============================] - 7s 373ms/step - loss: 2.0693e-04 - val_loss: 2.3352e-04\n",
      "Epoch 17/100\n",
      "20/20 [==============================] - 7s 373ms/step - loss: 2.2068e-04 - val_loss: 1.8531e-04\n",
      "Epoch 18/100\n",
      "20/20 [==============================] - 8s 378ms/step - loss: 1.9700e-04 - val_loss: 1.6958e-04\n",
      "Epoch 19/100\n",
      "20/20 [==============================] - 7s 368ms/step - loss: 2.2432e-04 - val_loss: 1.6474e-04\n",
      "Epoch 20/100\n",
      "20/20 [==============================] - 8s 410ms/step - loss: 2.2269e-04 - val_loss: 1.5042e-04\n",
      "Epoch 21/100\n",
      "20/20 [==============================] - 8s 382ms/step - loss: 2.2008e-04 - val_loss: 2.0961e-04\n",
      "Epoch 22/100\n",
      "20/20 [==============================] - 8s 379ms/step - loss: 2.2503e-04 - val_loss: 2.3907e-04\n",
      "Epoch 23/100\n",
      "20/20 [==============================] - 8s 412ms/step - loss: 2.0465e-04 - val_loss: 1.5823e-04\n",
      "Epoch 24/100\n",
      "20/20 [==============================] - 6s 301ms/step - loss: 2.0878e-04 - val_loss: 2.6644e-04\n",
      "Epoch 25/100\n",
      "20/20 [==============================] - 7s 347ms/step - loss: 2.6706e-04 - val_loss: 2.0336e-04\n",
      "Epoch 26/100\n",
      "20/20 [==============================] - 7s 339ms/step - loss: 2.1346e-04 - val_loss: 1.8494e-04\n",
      "Epoch 27/100\n",
      "20/20 [==============================] - 7s 328ms/step - loss: 2.1464e-04 - val_loss: 1.5457e-04\n",
      "Epoch 28/100\n",
      "20/20 [==============================] - 8s 375ms/step - loss: 2.2146e-04 - val_loss: 1.5841e-04\n",
      "Epoch 29/100\n",
      "20/20 [==============================] - 7s 346ms/step - loss: 2.4171e-04 - val_loss: 1.5245e-04\n",
      "Epoch 30/100\n",
      "20/20 [==============================] - 7s 351ms/step - loss: 2.1551e-04 - val_loss: 1.9675e-04\n",
      "Epoch 31/100\n",
      "20/20 [==============================] - 7s 347ms/step - loss: 2.0936e-04 - val_loss: 1.4894e-04\n",
      "Epoch 32/100\n",
      "20/20 [==============================] - 6s 324ms/step - loss: 2.0048e-04 - val_loss: 1.4593e-04\n",
      "Epoch 33/100\n",
      "20/20 [==============================] - 6s 303ms/step - loss: 1.9838e-04 - val_loss: 1.5001e-04\n",
      "Epoch 34/100\n",
      "20/20 [==============================] - 6s 304ms/step - loss: 1.9752e-04 - val_loss: 2.0699e-04\n",
      "Epoch 35/100\n",
      "20/20 [==============================] - 6s 310ms/step - loss: 2.7036e-04 - val_loss: 1.8284e-04\n",
      "Epoch 36/100\n",
      "20/20 [==============================] - 6s 325ms/step - loss: 2.7638e-04 - val_loss: 1.8381e-04\n",
      "Epoch 37/100\n",
      "20/20 [==============================] - 6s 312ms/step - loss: 2.8461e-04 - val_loss: 1.4611e-04\n",
      "Epoch 38/100\n",
      "20/20 [==============================] - 6s 315ms/step - loss: 2.1134e-04 - val_loss: 1.6991e-04\n",
      "Epoch 39/100\n",
      "20/20 [==============================] - 7s 327ms/step - loss: 2.0251e-04 - val_loss: 1.4785e-04\n",
      "Epoch 40/100\n",
      "20/20 [==============================] - 6s 304ms/step - loss: 2.1761e-04 - val_loss: 1.6056e-04\n",
      "Epoch 41/100\n",
      "20/20 [==============================] - 6s 305ms/step - loss: 2.0691e-04 - val_loss: 1.4588e-04\n",
      "Epoch 42/100\n",
      "20/20 [==============================] - 7s 326ms/step - loss: 1.9774e-04 - val_loss: 1.4472e-04\n",
      "Epoch 43/100\n",
      "20/20 [==============================] - 6s 315ms/step - loss: 1.9073e-04 - val_loss: 1.7168e-04\n",
      "Epoch 44/100\n",
      "20/20 [==============================] - 7s 321ms/step - loss: 2.0389e-04 - val_loss: 1.6169e-04\n",
      "Epoch 45/100\n",
      "20/20 [==============================] - 6s 302ms/step - loss: 2.0499e-04 - val_loss: 1.6248e-04\n",
      "Epoch 46/100\n",
      "20/20 [==============================] - 6s 306ms/step - loss: 2.3157e-04 - val_loss: 1.7355e-04\n",
      "Epoch 47/100\n",
      "20/20 [==============================] - 7s 328ms/step - loss: 2.0023e-04 - val_loss: 1.4462e-04\n",
      "Epoch 48/100\n",
      "20/20 [==============================] - 6s 313ms/step - loss: 1.9874e-04 - val_loss: 1.4382e-04\n",
      "Epoch 49/100\n",
      "20/20 [==============================] - 6s 306ms/step - loss: 1.8984e-04 - val_loss: 1.4206e-04\n",
      "Epoch 50/100\n",
      "20/20 [==============================] - 6s 308ms/step - loss: 2.1112e-04 - val_loss: 2.5886e-04\n",
      "Epoch 51/100\n",
      "20/20 [==============================] - 6s 324ms/step - loss: 2.2684e-04 - val_loss: 1.4413e-04\n",
      "Epoch 52/100\n",
      "20/20 [==============================] - 7s 326ms/step - loss: 2.1731e-04 - val_loss: 1.6402e-04\n",
      "Epoch 53/100\n",
      "20/20 [==============================] - 6s 309ms/step - loss: 2.0231e-04 - val_loss: 2.1215e-04\n",
      "Epoch 54/100\n",
      "20/20 [==============================] - 6s 321ms/step - loss: 2.0156e-04 - val_loss: 1.7159e-04\n",
      "Epoch 55/100\n",
      "20/20 [==============================] - 7s 326ms/step - loss: 2.3041e-04 - val_loss: 1.5108e-04\n",
      "Epoch 56/100\n",
      "20/20 [==============================] - 7s 335ms/step - loss: 2.1462e-04 - val_loss: 1.8517e-04\n",
      "Epoch 57/100\n",
      "20/20 [==============================] - 6s 324ms/step - loss: 2.0569e-04 - val_loss: 1.8416e-04\n",
      "Epoch 58/100\n",
      "20/20 [==============================] - 6s 309ms/step - loss: 2.2891e-04 - val_loss: 1.6133e-04\n",
      "Epoch 59/100\n",
      "20/20 [==============================] - 7s 354ms/step - loss: 1.8783e-04 - val_loss: 1.3912e-04\n",
      "Epoch 60/100\n",
      "20/20 [==============================] - 7s 348ms/step - loss: 2.0460e-04 - val_loss: 1.5143e-04\n",
      "Epoch 61/100\n",
      "20/20 [==============================] - 7s 331ms/step - loss: 1.9201e-04 - val_loss: 1.9909e-04\n",
      "Epoch 62/100\n",
      "20/20 [==============================] - 7s 333ms/step - loss: 1.9320e-04 - val_loss: 1.6327e-04\n",
      "Epoch 63/100\n",
      "20/20 [==============================] - 7s 348ms/step - loss: 1.8973e-04 - val_loss: 1.6849e-04\n",
      "Epoch 64/100\n",
      "20/20 [==============================] - 7s 340ms/step - loss: 1.9899e-04 - val_loss: 1.6576e-04\n",
      "Epoch 65/100\n",
      "20/20 [==============================] - 7s 341ms/step - loss: 1.9455e-04 - val_loss: 1.5784e-04\n",
      "Epoch 66/100\n",
      "20/20 [==============================] - 7s 343ms/step - loss: 1.9619e-04 - val_loss: 1.3483e-04\n",
      "Epoch 67/100\n",
      "20/20 [==============================] - 6s 321ms/step - loss: 2.2559e-04 - val_loss: 1.4413e-04\n",
      "Epoch 68/100\n",
      "20/20 [==============================] - 7s 349ms/step - loss: 1.9609e-04 - val_loss: 1.4300e-04\n",
      "Epoch 69/100\n",
      "20/20 [==============================] - 7s 340ms/step - loss: 2.0148e-04 - val_loss: 2.5407e-04\n",
      "Epoch 70/100\n",
      "20/20 [==============================] - 7s 340ms/step - loss: 2.1824e-04 - val_loss: 1.5788e-04\n",
      "Epoch 71/100\n",
      "20/20 [==============================] - 7s 356ms/step - loss: 3.9689e-04 - val_loss: 1.4099e-04\n",
      "Epoch 72/100\n",
      "20/20 [==============================] - 6s 303ms/step - loss: 2.5132e-04 - val_loss: 1.7919e-04\n",
      "Epoch 73/100\n",
      "20/20 [==============================] - 6s 305ms/step - loss: 2.1359e-04 - val_loss: 1.5835e-04\n",
      "Epoch 74/100\n",
      "20/20 [==============================] - 7s 354ms/step - loss: 2.0442e-04 - val_loss: 1.3919e-04\n",
      "Epoch 75/100\n",
      "20/20 [==============================] - 7s 346ms/step - loss: 2.1778e-04 - val_loss: 1.5383e-04\n",
      "Epoch 76/100\n",
      "20/20 [==============================] - 7s 359ms/step - loss: 3.7780e-04 - val_loss: 1.7371e-04\n",
      "Epoch 77/100\n",
      "20/20 [==============================] - 6s 308ms/step - loss: 2.6303e-04 - val_loss: 1.6542e-04\n",
      "Epoch 78/100\n",
      "20/20 [==============================] - 6s 304ms/step - loss: 2.7423e-04 - val_loss: 1.5222e-04\n",
      "Epoch 79/100\n",
      "20/20 [==============================] - 7s 355ms/step - loss: 2.3346e-04 - val_loss: 1.4095e-04\n",
      "Epoch 80/100\n",
      "20/20 [==============================] - 7s 349ms/step - loss: 2.0033e-04 - val_loss: 1.6695e-04\n",
      "Epoch 81/100\n",
      "20/20 [==============================] - 7s 344ms/step - loss: 1.8402e-04 - val_loss: 1.7100e-04\n",
      "Epoch 82/100\n",
      "20/20 [==============================] - 7s 341ms/step - loss: 1.9174e-04 - val_loss: 1.7116e-04\n",
      "Epoch 83/100\n",
      "20/20 [==============================] - 7s 362ms/step - loss: 1.8451e-04 - val_loss: 1.5257e-04\n",
      "Epoch 84/100\n",
      "20/20 [==============================] - 7s 351ms/step - loss: 1.8962e-04 - val_loss: 1.8407e-04\n",
      "Epoch 85/100\n",
      "20/20 [==============================] - 6s 317ms/step - loss: 2.0361e-04 - val_loss: 1.4898e-04\n",
      "Epoch 86/100\n",
      "20/20 [==============================] - 7s 353ms/step - loss: 1.9779e-04 - val_loss: 1.3400e-04\n",
      "Epoch 87/100\n",
      "20/20 [==============================] - 7s 345ms/step - loss: 2.2086e-04 - val_loss: 2.0168e-04\n",
      "Epoch 88/100\n",
      "20/20 [==============================] - 7s 340ms/step - loss: 2.3080e-04 - val_loss: 1.3865e-04\n",
      "Epoch 89/100\n",
      "20/20 [==============================] - 7s 329ms/step - loss: 1.9523e-04 - val_loss: 1.4808e-04\n",
      "Epoch 90/100\n",
      "20/20 [==============================] - 6s 307ms/step - loss: 1.8925e-04 - val_loss: 1.4219e-04\n",
      "Epoch 91/100\n",
      "20/20 [==============================] - 6s 315ms/step - loss: 2.2125e-04 - val_loss: 2.0051e-04\n",
      "Epoch 92/100\n",
      "20/20 [==============================] - 6s 304ms/step - loss: 1.9006e-04 - val_loss: 1.5998e-04\n",
      "Epoch 93/100\n",
      "20/20 [==============================] - 7s 346ms/step - loss: 2.6148e-04 - val_loss: 2.0106e-04\n",
      "Epoch 94/100\n",
      "20/20 [==============================] - 7s 343ms/step - loss: 2.0162e-04 - val_loss: 2.0158e-04\n",
      "Epoch 95/100\n",
      "20/20 [==============================] - 7s 342ms/step - loss: 2.4207e-04 - val_loss: 1.4871e-04\n",
      "Epoch 96/100\n",
      "20/20 [==============================] - 7s 354ms/step - loss: 1.8285e-04 - val_loss: 1.5248e-04\n",
      "Epoch 97/100\n",
      "20/20 [==============================] - 7s 346ms/step - loss: 1.8676e-04 - val_loss: 2.4738e-04\n",
      "Epoch 98/100\n",
      "20/20 [==============================] - 7s 343ms/step - loss: 2.5043e-04 - val_loss: 1.4660e-04\n",
      "Epoch 99/100\n",
      "20/20 [==============================] - 7s 357ms/step - loss: 2.0692e-04 - val_loss: 2.3890e-04\n",
      "Epoch 100/100\n",
      "20/20 [==============================] - 7s 333ms/step - loss: 2.4809e-04 - val_loss: 1.4251e-04\n"
     ]
    },
    {
     "data": {
      "text/plain": [
       "<keras.callbacks.History at 0x22f0d03bb50>"
      ]
     },
     "execution_count": 42,
     "metadata": {},
     "output_type": "execute_result"
    }
   ],
   "source": [
    "from tabnanny import verbose\n",
    "\n",
    "\n",
    "model.fit(X_train,y_train,validation_data=(X_test,y_test),epochs=100,batch_size=64,verbose=1)"
   ]
  },
  {
   "cell_type": "markdown",
   "metadata": {},
   "source": [
    "**Generate Prediction**"
   ]
  },
  {
   "cell_type": "code",
   "execution_count": 43,
   "metadata": {},
   "outputs": [],
   "source": [
    "import tensorflow as tf"
   ]
  },
  {
   "cell_type": "code",
   "execution_count": 45,
   "metadata": {},
   "outputs": [
    {
     "data": {
      "text/plain": [
       "'2.10.0'"
      ]
     },
     "execution_count": 45,
     "metadata": {},
     "output_type": "execute_result"
    }
   ],
   "source": [
    "tf.__version__"
   ]
  },
  {
   "cell_type": "code",
   "execution_count": 52,
   "metadata": {},
   "outputs": [
    {
     "name": "stdout",
     "output_type": "stream",
     "text": [
      "39/39 [==============================] - 3s 69ms/step\n",
      "20/20 [==============================] - 1s 67ms/step\n"
     ]
    }
   ],
   "source": [
    "train_predict=model.predict(X_train)\n",
    "test_predict=model.predict(X_test)"
   ]
  },
  {
   "cell_type": "code",
   "execution_count": 53,
   "metadata": {},
   "outputs": [],
   "source": [
    "#Transformback to original reverse scaling\n",
    "train_predict=scaler.inverse_transform(train_predict)\n",
    "test_predict=scaler.inverse_transform(test_predict)"
   ]
  },
  {
   "cell_type": "markdown",
   "metadata": {},
   "source": [
    "**Calculate RMSE (Root mean square error)**"
   ]
  },
  {
   "cell_type": "code",
   "execution_count": 54,
   "metadata": {},
   "outputs": [
    {
     "data": {
      "text/plain": [
       "167.12338727909918"
      ]
     },
     "execution_count": 54,
     "metadata": {},
     "output_type": "execute_result"
    }
   ],
   "source": [
    "import math\n",
    "from sklearn.metrics import mean_squared_error\n",
    "math.sqrt(mean_squared_error(y_train,train_predict))"
   ]
  },
  {
   "cell_type": "code",
   "execution_count": 55,
   "metadata": {},
   "outputs": [
    {
     "data": {
      "text/plain": [
       "115.68532432127165"
      ]
     },
     "execution_count": 55,
     "metadata": {},
     "output_type": "execute_result"
    }
   ],
   "source": [
    "#test data RMSE\n",
    "math.sqrt(mean_squared_error(y_test,test_predict))"
   ]
  },
  {
   "cell_type": "markdown",
   "metadata": {},
   "source": [
    "**Shift train prediction for plotting**"
   ]
  },
  {
   "cell_type": "code",
   "execution_count": 56,
   "metadata": {},
   "outputs": [],
   "source": [
    "look_back=100\n",
    "train_predict_plot=np.empty_like(stock_data)\n",
    "train_predict_plot[:, :]=np.nan\n",
    "train_predict_plot[look_back:len(train_predict)+look_back, :] = train_predict"
   ]
  },
  {
   "cell_type": "code",
   "execution_count": 64,
   "metadata": {},
   "outputs": [],
   "source": [
    "test_Predict_Plot = np.empty_like(stock_data)\n",
    "test_Predict_Plot[:, :] = np.nan\n",
    "test_Predict_Plot[len(train_predict)+(look_back*2)+1:len(stock_data)-1, :] = test_predict"
   ]
  },
  {
   "cell_type": "markdown",
   "metadata": {},
   "source": [
    "**Plot baseline and prediction**"
   ]
  },
  {
   "cell_type": "code",
   "execution_count": 65,
   "metadata": {},
   "outputs": [
    {
     "data": {
      "image/png": "[encoded data removed]",
      "text/plain": [
       "<Figure size 432x288 with 1 Axes>"
      ]
     },
     "metadata": {
      "needs_background": "light"
     },
     "output_type": "display_data"
    }
   ],
   "source": [
    "plt.plot(scaler.inverse_transform(stock_data))\n",
    "plt.plot(train_predict_plot)\n",
    "plt.plot(test_Predict_Plot)\n",
    "plt.show()\n"
   ]
  },
  {
   "cell_type": "code",
   "execution_count": 67,
   "metadata": {},
   "outputs": [
    {
     "data": {
      "text/plain": [
       "(713, (612, 100, 1))"
      ]
     },
     "execution_count": 67,
     "metadata": {},
     "output_type": "execute_result"
    }
   ],
   "source": [
    "len(test_data),X_test.shape"
   ]
  },
  {
   "cell_type": "code",
   "execution_count": 68,
   "metadata": {},
   "outputs": [
    {
     "data": {
      "text/plain": [
       "(1, 100)"
      ]
     },
     "execution_count": 68,
     "metadata": {},
     "output_type": "execute_result"
    }
   ],
   "source": [
    "X_input=test_data[613:].reshape(1,-1)\n",
    "X_input.shape"
   ]
  },
  {
   "cell_type": "code",
   "execution_count": 71,
   "metadata": {},
   "outputs": [],
   "source": [
    "temp_input=list(X_input)\n",
    "temp_input=temp_input[0].tolist()"
   ]
  },
  {
   "cell_type": "markdown",
   "metadata": {},
   "source": [
    "**Prediction for next 30 days**"
   ]
  },
  {
   "cell_type": "code",
   "execution_count": 76,
   "metadata": {},
   "outputs": [
    {
     "name": "stdout",
     "output_type": "stream",
     "text": [
      "1 day input [0.15257353 0.14848856 0.14338235 0.14562908 0.15236928 0.15400327\n",
      " 0.14971405 0.1621732  0.16319444 0.16584967 0.16683395 0.16800332\n",
      " 0.16876675 0.16939808 0.16997929 0.17055264 0.17113079 0.17170767\n",
      " 0.17227043 0.17280738 0.17331207 0.17378429 0.17422909 0.17465477\n",
      " 0.17507087 0.17548651 0.17590912 0.17634399 0.17679423 0.17726135\n",
      " 0.17774539 0.17824543 0.17876017 0.1792879  0.17982705 0.18037607\n",
      " 0.18093342 0.18149768 0.18206754 0.18264171 0.183219   0.18379818\n",
      " 0.18437816 0.18495807 0.18553695 0.18611407 0.18668874 0.18726052\n",
      " 0.18782893 0.18839368 0.1889545  0.18951134 0.190064   0.19061264\n",
      " 0.1911571  0.19169766 0.19223425 0.19276716 0.19329639 0.19382213\n",
      " 0.19434468 0.19486409 0.19538049 0.19589417 0.19640532 0.1969139\n",
      " 0.19742009 0.19792421 0.19842617 0.1989262  0.19942436 0.19992068\n",
      " 0.20041539 0.20090844 0.20140001 0.20188999 0.20237859 0.20286585\n",
      " 0.20335174 0.20383626 0.20431952 0.2048015  0.20528232 0.20576197\n",
      " 0.2062405  0.20671789 0.20719421 0.20766954 0.20814374 0.20861702\n",
      " 0.20908929 0.20956065 0.21003112 0.21050072 0.21096942 0.21143734\n",
      " 0.21190451 0.21237093 0.21283659 0.21330169]\n",
      "1 day output [[0.21376605]]\n",
      "2 day input [0.14848856 0.14338235 0.14562908 0.15236928 0.15400327 0.14971405\n",
      " 0.1621732  0.16319444 0.16584967 0.16683395 0.16800332 0.16876675\n",
      " 0.16939808 0.16997929 0.17055264 0.17113079 0.17170767 0.17227043\n",
      " 0.17280738 0.17331207 0.17378429 0.17422909 0.17465477 0.17507087\n",
      " 0.17548651 0.17590912 0.17634399 0.17679423 0.17726135 0.17774539\n",
      " 0.17824543 0.17876017 0.1792879  0.17982705 0.18037607 0.18093342\n",
      " 0.18149768 0.18206754 0.18264171 0.183219   0.18379818 0.18437816\n",
      " 0.18495807 0.18553695 0.18611407 0.18668874 0.18726052 0.18782893\n",
      " 0.18839368 0.1889545  0.18951134 0.190064   0.19061264 0.1911571\n",
      " 0.19169766 0.19223425 0.19276716 0.19329639 0.19382213 0.19434468\n",
      " 0.19486409 0.19538049 0.19589417 0.19640532 0.1969139  0.19742009\n",
      " 0.19792421 0.19842617 0.1989262  0.19942436 0.19992068 0.20041539\n",
      " 0.20090844 0.20140001 0.20188999 0.20237859 0.20286585 0.20335174\n",
      " 0.20383626 0.20431952 0.2048015  0.20528232 0.20576197 0.2062405\n",
      " 0.20671789 0.20719421 0.20766954 0.20814374 0.20861702 0.20908929\n",
      " 0.20956065 0.21003112 0.21050072 0.21096942 0.21143734 0.21190451\n",
      " 0.21237093 0.21283659 0.21330169 0.21376605]\n",
      "2 day output [[0.21422975]]\n",
      "3 day input [0.14338235 0.14562908 0.15236928 0.15400327 0.14971405 0.1621732\n",
      " 0.16319444 0.16584967 0.16683395 0.16800332 0.16876675 0.16939808\n",
      " 0.16997929 0.17055264 0.17113079 0.17170767 0.17227043 0.17280738\n",
      " 0.17331207 0.17378429 0.17422909 0.17465477 0.17507087 0.17548651\n",
      " 0.17590912 0.17634399 0.17679423 0.17726135 0.17774539 0.17824543\n",
      " 0.17876017 0.1792879  0.17982705 0.18037607 0.18093342 0.18149768\n",
      " 0.18206754 0.18264171 0.183219   0.18379818 0.18437816 0.18495807\n",
      " 0.18553695 0.18611407 0.18668874 0.18726052 0.18782893 0.18839368\n",
      " 0.1889545  0.18951134 0.190064   0.19061264 0.1911571  0.19169766\n",
      " 0.19223425 0.19276716 0.19329639 0.19382213 0.19434468 0.19486409\n",
      " 0.19538049 0.19589417 0.19640532 0.1969139  0.19742009 0.19792421\n",
      " 0.19842617 0.1989262  0.19942436 0.19992068 0.20041539 0.20090844\n",
      " 0.20140001 0.20188999 0.20237859 0.20286585 0.20335174 0.20383626\n",
      " 0.20431952 0.2048015  0.20528232 0.20576197 0.2062405  0.20671789\n",
      " 0.20719421 0.20766954 0.20814374 0.20861702 0.20908929 0.20956065\n",
      " 0.21003112 0.21050072 0.21096942 0.21143734 0.21190451 0.21237093\n",
      " 0.21283659 0.21330169 0.21376605 0.21422975]\n",
      "3 day output [[0.21469289]]\n",
      "4 day input [0.14562908 0.15236928 0.15400327 0.14971405 0.1621732  0.16319444\n",
      " 0.16584967 0.16683395 0.16800332 0.16876675 0.16939808 0.16997929\n",
      " 0.17055264 0.17113079 0.17170767 0.17227043 0.17280738 0.17331207\n",
      " 0.17378429 0.17422909 0.17465477 0.17507087 0.17548651 0.17590912\n",
      " 0.17634399 0.17679423 0.17726135 0.17774539 0.17824543 0.17876017\n",
      " 0.1792879  0.17982705 0.18037607 0.18093342 0.18149768 0.18206754\n",
      " 0.18264171 0.183219   0.18379818 0.18437816 0.18495807 0.18553695\n",
      " 0.18611407 0.18668874 0.18726052 0.18782893 0.18839368 0.1889545\n",
      " 0.18951134 0.190064   0.19061264 0.1911571  0.19169766 0.19223425\n",
      " 0.19276716 0.19329639 0.19382213 0.19434468 0.19486409 0.19538049\n",
      " 0.19589417 0.19640532 0.1969139  0.19742009 0.19792421 0.19842617\n",
      " 0.1989262  0.19942436 0.19992068 0.20041539 0.20090844 0.20140001\n",
      " 0.20188999 0.20237859 0.20286585 0.20335174 0.20383626 0.20431952\n",
      " 0.2048015  0.20528232 0.20576197 0.2062405  0.20671789 0.20719421\n",
      " 0.20766954 0.20814374 0.20861702 0.20908929 0.20956065 0.21003112\n",
      " 0.21050072 0.21096942 0.21143734 0.21190451 0.21237093 0.21283659\n",
      " 0.21330169 0.21376605 0.21422975 0.21469289]\n",
      "4 day output [[0.21515554]]\n",
      "5 day input [0.15236928 0.15400327 0.14971405 0.1621732  0.16319444 0.16584967\n",
      " 0.16683395 0.16800332 0.16876675 0.16939808 0.16997929 0.17055264\n",
      " 0.17113079 0.17170767 0.17227043 0.17280738 0.17331207 0.17378429\n",
      " 0.17422909 0.17465477 0.17507087 0.17548651 0.17590912 0.17634399\n",
      " 0.17679423 0.17726135 0.17774539 0.17824543 0.17876017 0.1792879\n",
      " 0.17982705 0.18037607 0.18093342 0.18149768 0.18206754 0.18264171\n",
      " 0.183219   0.18379818 0.18437816 0.18495807 0.18553695 0.18611407\n",
      " 0.18668874 0.18726052 0.18782893 0.18839368 0.1889545  0.18951134\n",
      " 0.190064   0.19061264 0.1911571  0.19169766 0.19223425 0.19276716\n",
      " 0.19329639 0.19382213 0.19434468 0.19486409 0.19538049 0.19589417\n",
      " 0.19640532 0.1969139  0.19742009 0.19792421 0.19842617 0.1989262\n",
      " 0.19942436 0.19992068 0.20041539 0.20090844 0.20140001 0.20188999\n",
      " 0.20237859 0.20286585 0.20335174 0.20383626 0.20431952 0.2048015\n",
      " 0.20528232 0.20576197 0.2062405  0.20671789 0.20719421 0.20766954\n",
      " 0.20814374 0.20861702 0.20908929 0.20956065 0.21003112 0.21050072\n",
      " 0.21096942 0.21143734 0.21190451 0.21237093 0.21283659 0.21330169\n",
      " 0.21376605 0.21422975 0.21469289 0.21515554]\n",
      "5 day output [[0.21561761]]\n",
      "6 day input [0.15400327 0.14971405 0.1621732  0.16319444 0.16584967 0.16683395\n",
      " 0.16800332 0.16876675 0.16939808 0.16997929 0.17055264 0.17113079\n",
      " 0.17170767 0.17227043 0.17280738 0.17331207 0.17378429 0.17422909\n",
      " 0.17465477 0.17507087 0.17548651 0.17590912 0.17634399 0.17679423\n",
      " 0.17726135 0.17774539 0.17824543 0.17876017 0.1792879  0.17982705\n",
      " 0.18037607 0.18093342 0.18149768 0.18206754 0.18264171 0.183219\n",
      " 0.18379818 0.18437816 0.18495807 0.18553695 0.18611407 0.18668874\n",
      " 0.18726052 0.18782893 0.18839368 0.1889545  0.18951134 0.190064\n",
      " 0.19061264 0.1911571  0.19169766 0.19223425 0.19276716 0.19329639\n",
      " 0.19382213 0.19434468 0.19486409 0.19538049 0.19589417 0.19640532\n",
      " 0.1969139  0.19742009 0.19792421 0.19842617 0.1989262  0.19942436\n",
      " 0.19992068 0.20041539 0.20090844 0.20140001 0.20188999 0.20237859\n",
      " 0.20286585 0.20335174 0.20383626 0.20431952 0.2048015  0.20528232\n",
      " 0.20576197 0.2062405  0.20671789 0.20719421 0.20766954 0.20814374\n",
      " 0.20861702 0.20908929 0.20956065 0.21003112 0.21050072 0.21096942\n",
      " 0.21143734 0.21190451 0.21237093 0.21283659 0.21330169 0.21376605\n",
      " 0.21422975 0.21469289 0.21515554 0.21561761]\n",
      "6 day output [[0.21607922]]\n",
      "7 day input [0.14971405 0.1621732  0.16319444 0.16584967 0.16683395 0.16800332\n",
      " 0.16876675 0.16939808 0.16997929 0.17055264 0.17113079 0.17170767\n",
      " 0.17227043 0.17280738 0.17331207 0.17378429 0.17422909 0.17465477\n",
      " 0.17507087 0.17548651 0.17590912 0.17634399 0.17679423 0.17726135\n",
      " 0.17774539 0.17824543 0.17876017 0.1792879  0.17982705 0.18037607\n",
      " 0.18093342 0.18149768 0.18206754 0.18264171 0.183219   0.18379818\n",
      " 0.18437816 0.18495807 0.18553695 0.18611407 0.18668874 0.18726052\n",
      " 0.18782893 0.18839368 0.1889545  0.18951134 0.190064   0.19061264\n",
      " 0.1911571  0.19169766 0.19223425 0.19276716 0.19329639 0.19382213\n",
      " 0.19434468 0.19486409 0.19538049 0.19589417 0.19640532 0.1969139\n",
      " 0.19742009 0.19792421 0.19842617 0.1989262  0.19942436 0.19992068\n",
      " 0.20041539 0.20090844 0.20140001 0.20188999 0.20237859 0.20286585\n",
      " 0.20335174 0.20383626 0.20431952 0.2048015  0.20528232 0.20576197\n",
      " 0.2062405  0.20671789 0.20719421 0.20766954 0.20814374 0.20861702\n",
      " 0.20908929 0.20956065 0.21003112 0.21050072 0.21096942 0.21143734\n",
      " 0.21190451 0.21237093 0.21283659 0.21330169 0.21376605 0.21422975\n",
      " 0.21469289 0.21515554 0.21561761 0.21607922]\n",
      "7 day output [[0.21654046]]\n",
      "8 day input [0.1621732  0.16319444 0.16584967 0.16683395 0.16800332 0.16876675\n",
      " 0.16939808 0.16997929 0.17055264 0.17113079 0.17170767 0.17227043\n",
      " 0.17280738 0.17331207 0.17378429 0.17422909 0.17465477 0.17507087\n",
      " 0.17548651 0.17590912 0.17634399 0.17679423 0.17726135 0.17774539\n",
      " 0.17824543 0.17876017 0.1792879  0.17982705 0.18037607 0.18093342\n",
      " 0.18149768 0.18206754 0.18264171 0.183219   0.18379818 0.18437816\n",
      " 0.18495807 0.18553695 0.18611407 0.18668874 0.18726052 0.18782893\n",
      " 0.18839368 0.1889545  0.18951134 0.190064   0.19061264 0.1911571\n",
      " 0.19169766 0.19223425 0.19276716 0.19329639 0.19382213 0.19434468\n",
      " 0.19486409 0.19538049 0.19589417 0.19640532 0.1969139  0.19742009\n",
      " 0.19792421 0.19842617 0.1989262  0.19942436 0.19992068 0.20041539\n",
      " 0.20090844 0.20140001 0.20188999 0.20237859 0.20286585 0.20335174\n",
      " 0.20383626 0.20431952 0.2048015  0.20528232 0.20576197 0.2062405\n",
      " 0.20671789 0.20719421 0.20766954 0.20814374 0.20861702 0.20908929\n",
      " 0.20956065 0.21003112 0.21050072 0.21096942 0.21143734 0.21190451\n",
      " 0.21237093 0.21283659 0.21330169 0.21376605 0.21422975 0.21469289\n",
      " 0.21515554 0.21561761 0.21607922 0.21654046]\n",
      "8 day output [[0.21700114]]\n",
      "9 day input [0.16319444 0.16584967 0.16683395 0.16800332 0.16876675 0.16939808\n",
      " 0.16997929 0.17055264 0.17113079 0.17170767 0.17227043 0.17280738\n",
      " 0.17331207 0.17378429 0.17422909 0.17465477 0.17507087 0.17548651\n",
      " 0.17590912 0.17634399 0.17679423 0.17726135 0.17774539 0.17824543\n",
      " 0.17876017 0.1792879  0.17982705 0.18037607 0.18093342 0.18149768\n",
      " 0.18206754 0.18264171 0.183219   0.18379818 0.18437816 0.18495807\n",
      " 0.18553695 0.18611407 0.18668874 0.18726052 0.18782893 0.18839368\n",
      " 0.1889545  0.18951134 0.190064   0.19061264 0.1911571  0.19169766\n",
      " 0.19223425 0.19276716 0.19329639 0.19382213 0.19434468 0.19486409\n",
      " 0.19538049 0.19589417 0.19640532 0.1969139  0.19742009 0.19792421\n",
      " 0.19842617 0.1989262  0.19942436 0.19992068 0.20041539 0.20090844\n",
      " 0.20140001 0.20188999 0.20237859 0.20286585 0.20335174 0.20383626\n",
      " 0.20431952 0.2048015  0.20528232 0.20576197 0.2062405  0.20671789\n",
      " 0.20719421 0.20766954 0.20814374 0.20861702 0.20908929 0.20956065\n",
      " 0.21003112 0.21050072 0.21096942 0.21143734 0.21190451 0.21237093\n",
      " 0.21283659 0.21330169 0.21376605 0.21422975 0.21469289 0.21515554\n",
      " 0.21561761 0.21607922 0.21654046 0.21700114]\n",
      "9 day output [[0.21746151]]\n",
      "10 day input [0.16584967 0.16683395 0.16800332 0.16876675 0.16939808 0.16997929\n",
      " 0.17055264 0.17113079 0.17170767 0.17227043 0.17280738 0.17331207\n",
      " 0.17378429 0.17422909 0.17465477 0.17507087 0.17548651 0.17590912\n",
      " 0.17634399 0.17679423 0.17726135 0.17774539 0.17824543 0.17876017\n",
      " 0.1792879  0.17982705 0.18037607 0.18093342 0.18149768 0.18206754\n",
      " 0.18264171 0.183219   0.18379818 0.18437816 0.18495807 0.18553695\n",
      " 0.18611407 0.18668874 0.18726052 0.18782893 0.18839368 0.1889545\n",
      " 0.18951134 0.190064   0.19061264 0.1911571  0.19169766 0.19223425\n",
      " 0.19276716 0.19329639 0.19382213 0.19434468 0.19486409 0.19538049\n",
      " 0.19589417 0.19640532 0.1969139  0.19742009 0.19792421 0.19842617\n",
      " 0.1989262  0.19942436 0.19992068 0.20041539 0.20090844 0.20140001\n",
      " 0.20188999 0.20237859 0.20286585 0.20335174 0.20383626 0.20431952\n",
      " 0.2048015  0.20528232 0.20576197 0.2062405  0.20671789 0.20719421\n",
      " 0.20766954 0.20814374 0.20861702 0.20908929 0.20956065 0.21003112\n",
      " 0.21050072 0.21096942 0.21143734 0.21190451 0.21237093 0.21283659\n",
      " 0.21330169 0.21376605 0.21422975 0.21469289 0.21515554 0.21561761\n",
      " 0.21607922 0.21654046 0.21700114 0.21746151]\n",
      "10 day output [[0.21792154]]\n",
      "11 day input [0.16683395 0.16800332 0.16876675 0.16939808 0.16997929 0.17055264\n",
      " 0.17113079 0.17170767 0.17227043 0.17280738 0.17331207 0.17378429\n",
      " 0.17422909 0.17465477 0.17507087 0.17548651 0.17590912 0.17634399\n",
      " 0.17679423 0.17726135 0.17774539 0.17824543 0.17876017 0.1792879\n",
      " 0.17982705 0.18037607 0.18093342 0.18149768 0.18206754 0.18264171\n",
      " 0.183219   0.18379818 0.18437816 0.18495807 0.18553695 0.18611407\n",
      " 0.18668874 0.18726052 0.18782893 0.18839368 0.1889545  0.18951134\n",
      " 0.190064   0.19061264 0.1911571  0.19169766 0.19223425 0.19276716\n",
      " 0.19329639 0.19382213 0.19434468 0.19486409 0.19538049 0.19589417\n",
      " 0.19640532 0.1969139  0.19742009 0.19792421 0.19842617 0.1989262\n",
      " 0.19942436 0.19992068 0.20041539 0.20090844 0.20140001 0.20188999\n",
      " 0.20237859 0.20286585 0.20335174 0.20383626 0.20431952 0.2048015\n",
      " 0.20528232 0.20576197 0.2062405  0.20671789 0.20719421 0.20766954\n",
      " 0.20814374 0.20861702 0.20908929 0.20956065 0.21003112 0.21050072\n",
      " 0.21096942 0.21143734 0.21190451 0.21237093 0.21283659 0.21330169\n",
      " 0.21376605 0.21422975 0.21469289 0.21515554 0.21561761 0.21607922\n",
      " 0.21654046 0.21700114 0.21746151 0.21792154]\n",
      "11 day output [[0.21838123]]\n",
      "12 day input [0.16800332 0.16876675 0.16939808 0.16997929 0.17055264 0.17113079\n",
      " 0.17170767 0.17227043 0.17280738 0.17331207 0.17378429 0.17422909\n",
      " 0.17465477 0.17507087 0.17548651 0.17590912 0.17634399 0.17679423\n",
      " 0.17726135 0.17774539 0.17824543 0.17876017 0.1792879  0.17982705\n",
      " 0.18037607 0.18093342 0.18149768 0.18206754 0.18264171 0.183219\n",
      " 0.18379818 0.18437816 0.18495807 0.18553695 0.18611407 0.18668874\n",
      " 0.18726052 0.18782893 0.18839368 0.1889545  0.18951134 0.190064\n",
      " 0.19061264 0.1911571  0.19169766 0.19223425 0.19276716 0.19329639\n",
      " 0.19382213 0.19434468 0.19486409 0.19538049 0.19589417 0.19640532\n",
      " 0.1969139  0.19742009 0.19792421 0.19842617 0.1989262  0.19942436\n",
      " 0.19992068 0.20041539 0.20090844 0.20140001 0.20188999 0.20237859\n",
      " 0.20286585 0.20335174 0.20383626 0.20431952 0.2048015  0.20528232\n",
      " 0.20576197 0.2062405  0.20671789 0.20719421 0.20766954 0.20814374\n",
      " 0.20861702 0.20908929 0.20956065 0.21003112 0.21050072 0.21096942\n",
      " 0.21143734 0.21190451 0.21237093 0.21283659 0.21330169 0.21376605\n",
      " 0.21422975 0.21469289 0.21515554 0.21561761 0.21607922 0.21654046\n",
      " 0.21700114 0.21746151 0.21792154 0.21838123]\n",
      "12 day output [[0.2188407]]\n",
      "13 day input [0.16876675 0.16939808 0.16997929 0.17055264 0.17113079 0.17170767\n",
      " 0.17227043 0.17280738 0.17331207 0.17378429 0.17422909 0.17465477\n",
      " 0.17507087 0.17548651 0.17590912 0.17634399 0.17679423 0.17726135\n",
      " 0.17774539 0.17824543 0.17876017 0.1792879  0.17982705 0.18037607\n",
      " 0.18093342 0.18149768 0.18206754 0.18264171 0.183219   0.18379818\n",
      " 0.18437816 0.18495807 0.18553695 0.18611407 0.18668874 0.18726052\n",
      " 0.18782893 0.18839368 0.1889545  0.18951134 0.190064   0.19061264\n",
      " 0.1911571  0.19169766 0.19223425 0.19276716 0.19329639 0.19382213\n",
      " 0.19434468 0.19486409 0.19538049 0.19589417 0.19640532 0.1969139\n",
      " 0.19742009 0.19792421 0.19842617 0.1989262  0.19942436 0.19992068\n",
      " 0.20041539 0.20090844 0.20140001 0.20188999 0.20237859 0.20286585\n",
      " 0.20335174 0.20383626 0.20431952 0.2048015  0.20528232 0.20576197\n",
      " 0.2062405  0.20671789 0.20719421 0.20766954 0.20814374 0.20861702\n",
      " 0.20908929 0.20956065 0.21003112 0.21050072 0.21096942 0.21143734\n",
      " 0.21190451 0.21237093 0.21283659 0.21330169 0.21376605 0.21422975\n",
      " 0.21469289 0.21515554 0.21561761 0.21607922 0.21654046 0.21700114\n",
      " 0.21746151 0.21792154 0.21838123 0.2188407 ]\n",
      "13 day output [[0.21929982]]\n",
      "14 day input [0.16939808 0.16997929 0.17055264 0.17113079 0.17170767 0.17227043\n",
      " 0.17280738 0.17331207 0.17378429 0.17422909 0.17465477 0.17507087\n",
      " 0.17548651 0.17590912 0.17634399 0.17679423 0.17726135 0.17774539\n",
      " 0.17824543 0.17876017 0.1792879  0.17982705 0.18037607 0.18093342\n",
      " 0.18149768 0.18206754 0.18264171 0.183219   0.18379818 0.18437816\n",
      " 0.18495807 0.18553695 0.18611407 0.18668874 0.18726052 0.18782893\n",
      " 0.18839368 0.1889545  0.18951134 0.190064   0.19061264 0.1911571\n",
      " 0.19169766 0.19223425 0.19276716 0.19329639 0.19382213 0.19434468\n",
      " 0.19486409 0.19538049 0.19589417 0.19640532 0.1969139  0.19742009\n",
      " 0.19792421 0.19842617 0.1989262  0.19942436 0.19992068 0.20041539\n",
      " 0.20090844 0.20140001 0.20188999 0.20237859 0.20286585 0.20335174\n",
      " 0.20383626 0.20431952 0.2048015  0.20528232 0.20576197 0.2062405\n",
      " 0.20671789 0.20719421 0.20766954 0.20814374 0.20861702 0.20908929\n",
      " 0.20956065 0.21003112 0.21050072 0.21096942 0.21143734 0.21190451\n",
      " 0.21237093 0.21283659 0.21330169 0.21376605 0.21422975 0.21469289\n",
      " 0.21515554 0.21561761 0.21607922 0.21654046 0.21700114 0.21746151\n",
      " 0.21792154 0.21838123 0.2188407  0.21929982]\n",
      "14 day output [[0.21975881]]\n",
      "15 day input [0.16997929 0.17055264 0.17113079 0.17170767 0.17227043 0.17280738\n",
      " 0.17331207 0.17378429 0.17422909 0.17465477 0.17507087 0.17548651\n",
      " 0.17590912 0.17634399 0.17679423 0.17726135 0.17774539 0.17824543\n",
      " 0.17876017 0.1792879  0.17982705 0.18037607 0.18093342 0.18149768\n",
      " 0.18206754 0.18264171 0.183219   0.18379818 0.18437816 0.18495807\n",
      " 0.18553695 0.18611407 0.18668874 0.18726052 0.18782893 0.18839368\n",
      " 0.1889545  0.18951134 0.190064   0.19061264 0.1911571  0.19169766\n",
      " 0.19223425 0.19276716 0.19329639 0.19382213 0.19434468 0.19486409\n",
      " 0.19538049 0.19589417 0.19640532 0.1969139  0.19742009 0.19792421\n",
      " 0.19842617 0.1989262  0.19942436 0.19992068 0.20041539 0.20090844\n",
      " 0.20140001 0.20188999 0.20237859 0.20286585 0.20335174 0.20383626\n",
      " 0.20431952 0.2048015  0.20528232 0.20576197 0.2062405  0.20671789\n",
      " 0.20719421 0.20766954 0.20814374 0.20861702 0.20908929 0.20956065\n",
      " 0.21003112 0.21050072 0.21096942 0.21143734 0.21190451 0.21237093\n",
      " 0.21283659 0.21330169 0.21376605 0.21422975 0.21469289 0.21515554\n",
      " 0.21561761 0.21607922 0.21654046 0.21700114 0.21746151 0.21792154\n",
      " 0.21838123 0.2188407  0.21929982 0.21975881]\n",
      "15 day output [[0.22021759]]\n",
      "16 day input [0.17055264 0.17113079 0.17170767 0.17227043 0.17280738 0.17331207\n",
      " 0.17378429 0.17422909 0.17465477 0.17507087 0.17548651 0.17590912\n",
      " 0.17634399 0.17679423 0.17726135 0.17774539 0.17824543 0.17876017\n",
      " 0.1792879  0.17982705 0.18037607 0.18093342 0.18149768 0.18206754\n",
      " 0.18264171 0.183219   0.18379818 0.18437816 0.18495807 0.18553695\n",
      " 0.18611407 0.18668874 0.18726052 0.18782893 0.18839368 0.1889545\n",
      " 0.18951134 0.190064   0.19061264 0.1911571  0.19169766 0.19223425\n",
      " 0.19276716 0.19329639 0.19382213 0.19434468 0.19486409 0.19538049\n",
      " 0.19589417 0.19640532 0.1969139  0.19742009 0.19792421 0.19842617\n",
      " 0.1989262  0.19942436 0.19992068 0.20041539 0.20090844 0.20140001\n",
      " 0.20188999 0.20237859 0.20286585 0.20335174 0.20383626 0.20431952\n",
      " 0.2048015  0.20528232 0.20576197 0.2062405  0.20671789 0.20719421\n",
      " 0.20766954 0.20814374 0.20861702 0.20908929 0.20956065 0.21003112\n",
      " 0.21050072 0.21096942 0.21143734 0.21190451 0.21237093 0.21283659\n",
      " 0.21330169 0.21376605 0.21422975 0.21469289 0.21515554 0.21561761\n",
      " 0.21607922 0.21654046 0.21700114 0.21746151 0.21792154 0.21838123\n",
      " 0.2188407  0.21929982 0.21975881 0.22021759]\n",
      "16 day output [[0.22067624]]\n",
      "17 day input [0.17113079 0.17170767 0.17227043 0.17280738 0.17331207 0.17378429\n",
      " 0.17422909 0.17465477 0.17507087 0.17548651 0.17590912 0.17634399\n",
      " 0.17679423 0.17726135 0.17774539 0.17824543 0.17876017 0.1792879\n",
      " 0.17982705 0.18037607 0.18093342 0.18149768 0.18206754 0.18264171\n",
      " 0.183219   0.18379818 0.18437816 0.18495807 0.18553695 0.18611407\n",
      " 0.18668874 0.18726052 0.18782893 0.18839368 0.1889545  0.18951134\n",
      " 0.190064   0.19061264 0.1911571  0.19169766 0.19223425 0.19276716\n",
      " 0.19329639 0.19382213 0.19434468 0.19486409 0.19538049 0.19589417\n",
      " 0.19640532 0.1969139  0.19742009 0.19792421 0.19842617 0.1989262\n",
      " 0.19942436 0.19992068 0.20041539 0.20090844 0.20140001 0.20188999\n",
      " 0.20237859 0.20286585 0.20335174 0.20383626 0.20431952 0.2048015\n",
      " 0.20528232 0.20576197 0.2062405  0.20671789 0.20719421 0.20766954\n",
      " 0.20814374 0.20861702 0.20908929 0.20956065 0.21003112 0.21050072\n",
      " 0.21096942 0.21143734 0.21190451 0.21237093 0.21283659 0.21330169\n",
      " 0.21376605 0.21422975 0.21469289 0.21515554 0.21561761 0.21607922\n",
      " 0.21654046 0.21700114 0.21746151 0.21792154 0.21838123 0.2188407\n",
      " 0.21929982 0.21975881 0.22021759 0.22067624]\n",
      "17 day output [[0.22113477]]\n",
      "18 day input [0.17170767 0.17227043 0.17280738 0.17331207 0.17378429 0.17422909\n",
      " 0.17465477 0.17507087 0.17548651 0.17590912 0.17634399 0.17679423\n",
      " 0.17726135 0.17774539 0.17824543 0.17876017 0.1792879  0.17982705\n",
      " 0.18037607 0.18093342 0.18149768 0.18206754 0.18264171 0.183219\n",
      " 0.18379818 0.18437816 0.18495807 0.18553695 0.18611407 0.18668874\n",
      " 0.18726052 0.18782893 0.18839368 0.1889545  0.18951134 0.190064\n",
      " 0.19061264 0.1911571  0.19169766 0.19223425 0.19276716 0.19329639\n",
      " 0.19382213 0.19434468 0.19486409 0.19538049 0.19589417 0.19640532\n",
      " 0.1969139  0.19742009 0.19792421 0.19842617 0.1989262  0.19942436\n",
      " 0.19992068 0.20041539 0.20090844 0.20140001 0.20188999 0.20237859\n",
      " 0.20286585 0.20335174 0.20383626 0.20431952 0.2048015  0.20528232\n",
      " 0.20576197 0.2062405  0.20671789 0.20719421 0.20766954 0.20814374\n",
      " 0.20861702 0.20908929 0.20956065 0.21003112 0.21050072 0.21096942\n",
      " 0.21143734 0.21190451 0.21237093 0.21283659 0.21330169 0.21376605\n",
      " 0.21422975 0.21469289 0.21515554 0.21561761 0.21607922 0.21654046\n",
      " 0.21700114 0.21746151 0.21792154 0.21838123 0.2188407  0.21929982\n",
      " 0.21975881 0.22021759 0.22067624 0.22113477]\n",
      "18 day output [[0.22159317]]\n",
      "19 day input [0.17227043 0.17280738 0.17331207 0.17378429 0.17422909 0.17465477\n",
      " 0.17507087 0.17548651 0.17590912 0.17634399 0.17679423 0.17726135\n",
      " 0.17774539 0.17824543 0.17876017 0.1792879  0.17982705 0.18037607\n",
      " 0.18093342 0.18149768 0.18206754 0.18264171 0.183219   0.18379818\n",
      " 0.18437816 0.18495807 0.18553695 0.18611407 0.18668874 0.18726052\n",
      " 0.18782893 0.18839368 0.1889545  0.18951134 0.190064   0.19061264\n",
      " 0.1911571  0.19169766 0.19223425 0.19276716 0.19329639 0.19382213\n",
      " 0.19434468 0.19486409 0.19538049 0.19589417 0.19640532 0.1969139\n",
      " 0.19742009 0.19792421 0.19842617 0.1989262  0.19942436 0.19992068\n",
      " 0.20041539 0.20090844 0.20140001 0.20188999 0.20237859 0.20286585\n",
      " 0.20335174 0.20383626 0.20431952 0.2048015  0.20528232 0.20576197\n",
      " 0.2062405  0.20671789 0.20719421 0.20766954 0.20814374 0.20861702\n",
      " 0.20908929 0.20956065 0.21003112 0.21050072 0.21096942 0.21143734\n",
      " 0.21190451 0.21237093 0.21283659 0.21330169 0.21376605 0.21422975\n",
      " 0.21469289 0.21515554 0.21561761 0.21607922 0.21654046 0.21700114\n",
      " 0.21746151 0.21792154 0.21838123 0.2188407  0.21929982 0.21975881\n",
      " 0.22021759 0.22067624 0.22113477 0.22159317]\n",
      "19 day output [[0.22205159]]\n",
      "20 day input [0.17280738 0.17331207 0.17378429 0.17422909 0.17465477 0.17507087\n",
      " 0.17548651 0.17590912 0.17634399 0.17679423 0.17726135 0.17774539\n",
      " 0.17824543 0.17876017 0.1792879  0.17982705 0.18037607 0.18093342\n",
      " 0.18149768 0.18206754 0.18264171 0.183219   0.18379818 0.18437816\n",
      " 0.18495807 0.18553695 0.18611407 0.18668874 0.18726052 0.18782893\n",
      " 0.18839368 0.1889545  0.18951134 0.190064   0.19061264 0.1911571\n",
      " 0.19169766 0.19223425 0.19276716 0.19329639 0.19382213 0.19434468\n",
      " 0.19486409 0.19538049 0.19589417 0.19640532 0.1969139  0.19742009\n",
      " 0.19792421 0.19842617 0.1989262  0.19942436 0.19992068 0.20041539\n",
      " 0.20090844 0.20140001 0.20188999 0.20237859 0.20286585 0.20335174\n",
      " 0.20383626 0.20431952 0.2048015  0.20528232 0.20576197 0.2062405\n",
      " 0.20671789 0.20719421 0.20766954 0.20814374 0.20861702 0.20908929\n",
      " 0.20956065 0.21003112 0.21050072 0.21096942 0.21143734 0.21190451\n",
      " 0.21237093 0.21283659 0.21330169 0.21376605 0.21422975 0.21469289\n",
      " 0.21515554 0.21561761 0.21607922 0.21654046 0.21700114 0.21746151\n",
      " 0.21792154 0.21838123 0.2188407  0.21929982 0.21975881 0.22021759\n",
      " 0.22067624 0.22113477 0.22159317 0.22205159]\n",
      "20 day output [[0.22250986]]\n",
      "21 day input [0.17331207 0.17378429 0.17422909 0.17465477 0.17507087 0.17548651\n",
      " 0.17590912 0.17634399 0.17679423 0.17726135 0.17774539 0.17824543\n",
      " 0.17876017 0.1792879  0.17982705 0.18037607 0.18093342 0.18149768\n",
      " 0.18206754 0.18264171 0.183219   0.18379818 0.18437816 0.18495807\n",
      " 0.18553695 0.18611407 0.18668874 0.18726052 0.18782893 0.18839368\n",
      " 0.1889545  0.18951134 0.190064   0.19061264 0.1911571  0.19169766\n",
      " 0.19223425 0.19276716 0.19329639 0.19382213 0.19434468 0.19486409\n",
      " 0.19538049 0.19589417 0.19640532 0.1969139  0.19742009 0.19792421\n",
      " 0.19842617 0.1989262  0.19942436 0.19992068 0.20041539 0.20090844\n",
      " 0.20140001 0.20188999 0.20237859 0.20286585 0.20335174 0.20383626\n",
      " 0.20431952 0.2048015  0.20528232 0.20576197 0.2062405  0.20671789\n",
      " 0.20719421 0.20766954 0.20814374 0.20861702 0.20908929 0.20956065\n",
      " 0.21003112 0.21050072 0.21096942 0.21143734 0.21190451 0.21237093\n",
      " 0.21283659 0.21330169 0.21376605 0.21422975 0.21469289 0.21515554\n",
      " 0.21561761 0.21607922 0.21654046 0.21700114 0.21746151 0.21792154\n",
      " 0.21838123 0.2188407  0.21929982 0.21975881 0.22021759 0.22067624\n",
      " 0.22113477 0.22159317 0.22205159 0.22250986]\n",
      "21 day output [[0.22296822]]\n",
      "22 day input [0.17378429 0.17422909 0.17465477 0.17507087 0.17548651 0.17590912\n",
      " 0.17634399 0.17679423 0.17726135 0.17774539 0.17824543 0.17876017\n",
      " 0.1792879  0.17982705 0.18037607 0.18093342 0.18149768 0.18206754\n",
      " 0.18264171 0.183219   0.18379818 0.18437816 0.18495807 0.18553695\n",
      " 0.18611407 0.18668874 0.18726052 0.18782893 0.18839368 0.1889545\n",
      " 0.18951134 0.190064   0.19061264 0.1911571  0.19169766 0.19223425\n",
      " 0.19276716 0.19329639 0.19382213 0.19434468 0.19486409 0.19538049\n",
      " 0.19589417 0.19640532 0.1969139  0.19742009 0.19792421 0.19842617\n",
      " 0.1989262  0.19942436 0.19992068 0.20041539 0.20090844 0.20140001\n",
      " 0.20188999 0.20237859 0.20286585 0.20335174 0.20383626 0.20431952\n",
      " 0.2048015  0.20528232 0.20576197 0.2062405  0.20671789 0.20719421\n",
      " 0.20766954 0.20814374 0.20861702 0.20908929 0.20956065 0.21003112\n",
      " 0.21050072 0.21096942 0.21143734 0.21190451 0.21237093 0.21283659\n",
      " 0.21330169 0.21376605 0.21422975 0.21469289 0.21515554 0.21561761\n",
      " 0.21607922 0.21654046 0.21700114 0.21746151 0.21792154 0.21838123\n",
      " 0.2188407  0.21929982 0.21975881 0.22021759 0.22067624 0.22113477\n",
      " 0.22159317 0.22205159 0.22250986 0.22296822]\n",
      "22 day output [[0.22342661]]\n",
      "23 day input [0.17422909 0.17465477 0.17507087 0.17548651 0.17590912 0.17634399\n",
      " 0.17679423 0.17726135 0.17774539 0.17824543 0.17876017 0.1792879\n",
      " 0.17982705 0.18037607 0.18093342 0.18149768 0.18206754 0.18264171\n",
      " 0.183219   0.18379818 0.18437816 0.18495807 0.18553695 0.18611407\n",
      " 0.18668874 0.18726052 0.18782893 0.18839368 0.1889545  0.18951134\n",
      " 0.190064   0.19061264 0.1911571  0.19169766 0.19223425 0.19276716\n",
      " 0.19329639 0.19382213 0.19434468 0.19486409 0.19538049 0.19589417\n",
      " 0.19640532 0.1969139  0.19742009 0.19792421 0.19842617 0.1989262\n",
      " 0.19942436 0.19992068 0.20041539 0.20090844 0.20140001 0.20188999\n",
      " 0.20237859 0.20286585 0.20335174 0.20383626 0.20431952 0.2048015\n",
      " 0.20528232 0.20576197 0.2062405  0.20671789 0.20719421 0.20766954\n",
      " 0.20814374 0.20861702 0.20908929 0.20956065 0.21003112 0.21050072\n",
      " 0.21096942 0.21143734 0.21190451 0.21237093 0.21283659 0.21330169\n",
      " 0.21376605 0.21422975 0.21469289 0.21515554 0.21561761 0.21607922\n",
      " 0.21654046 0.21700114 0.21746151 0.21792154 0.21838123 0.2188407\n",
      " 0.21929982 0.21975881 0.22021759 0.22067624 0.22113477 0.22159317\n",
      " 0.22205159 0.22250986 0.22296822 0.22342661]\n",
      "23 day output [[0.2238851]]\n",
      "24 day input [0.17465477 0.17507087 0.17548651 0.17590912 0.17634399 0.17679423\n",
      " 0.17726135 0.17774539 0.17824543 0.17876017 0.1792879  0.17982705\n",
      " 0.18037607 0.18093342 0.18149768 0.18206754 0.18264171 0.183219\n",
      " 0.18379818 0.18437816 0.18495807 0.18553695 0.18611407 0.18668874\n",
      " 0.18726052 0.18782893 0.18839368 0.1889545  0.18951134 0.190064\n",
      " 0.19061264 0.1911571  0.19169766 0.19223425 0.19276716 0.19329639\n",
      " 0.19382213 0.19434468 0.19486409 0.19538049 0.19589417 0.19640532\n",
      " 0.1969139  0.19742009 0.19792421 0.19842617 0.1989262  0.19942436\n",
      " 0.19992068 0.20041539 0.20090844 0.20140001 0.20188999 0.20237859\n",
      " 0.20286585 0.20335174 0.20383626 0.20431952 0.2048015  0.20528232\n",
      " 0.20576197 0.2062405  0.20671789 0.20719421 0.20766954 0.20814374\n",
      " 0.20861702 0.20908929 0.20956065 0.21003112 0.21050072 0.21096942\n",
      " 0.21143734 0.21190451 0.21237093 0.21283659 0.21330169 0.21376605\n",
      " 0.21422975 0.21469289 0.21515554 0.21561761 0.21607922 0.21654046\n",
      " 0.21700114 0.21746151 0.21792154 0.21838123 0.2188407  0.21929982\n",
      " 0.21975881 0.22021759 0.22067624 0.22113477 0.22159317 0.22205159\n",
      " 0.22250986 0.22296822 0.22342661 0.2238851 ]\n",
      "24 day output [[0.2243437]]\n",
      "25 day input [0.17507087 0.17548651 0.17590912 0.17634399 0.17679423 0.17726135\n",
      " 0.17774539 0.17824543 0.17876017 0.1792879  0.17982705 0.18037607\n",
      " 0.18093342 0.18149768 0.18206754 0.18264171 0.183219   0.18379818\n",
      " 0.18437816 0.18495807 0.18553695 0.18611407 0.18668874 0.18726052\n",
      " 0.18782893 0.18839368 0.1889545  0.18951134 0.190064   0.19061264\n",
      " 0.1911571  0.19169766 0.19223425 0.19276716 0.19329639 0.19382213\n",
      " 0.19434468 0.19486409 0.19538049 0.19589417 0.19640532 0.1969139\n",
      " 0.19742009 0.19792421 0.19842617 0.1989262  0.19942436 0.19992068\n",
      " 0.20041539 0.20090844 0.20140001 0.20188999 0.20237859 0.20286585\n",
      " 0.20335174 0.20383626 0.20431952 0.2048015  0.20528232 0.20576197\n",
      " 0.2062405  0.20671789 0.20719421 0.20766954 0.20814374 0.20861702\n",
      " 0.20908929 0.20956065 0.21003112 0.21050072 0.21096942 0.21143734\n",
      " 0.21190451 0.21237093 0.21283659 0.21330169 0.21376605 0.21422975\n",
      " 0.21469289 0.21515554 0.21561761 0.21607922 0.21654046 0.21700114\n",
      " 0.21746151 0.21792154 0.21838123 0.2188407  0.21929982 0.21975881\n",
      " 0.22021759 0.22067624 0.22113477 0.22159317 0.22205159 0.22250986\n",
      " 0.22296822 0.22342661 0.2238851  0.2243437 ]\n",
      "25 day output [[0.2248024]]\n",
      "26 day input [0.17548651 0.17590912 0.17634399 0.17679423 0.17726135 0.17774539\n",
      " 0.17824543 0.17876017 0.1792879  0.17982705 0.18037607 0.18093342\n",
      " 0.18149768 0.18206754 0.18264171 0.183219   0.18379818 0.18437816\n",
      " 0.18495807 0.18553695 0.18611407 0.18668874 0.18726052 0.18782893\n",
      " 0.18839368 0.1889545  0.18951134 0.190064   0.19061264 0.1911571\n",
      " 0.19169766 0.19223425 0.19276716 0.19329639 0.19382213 0.19434468\n",
      " 0.19486409 0.19538049 0.19589417 0.19640532 0.1969139  0.19742009\n",
      " 0.19792421 0.19842617 0.1989262  0.19942436 0.19992068 0.20041539\n",
      " 0.20090844 0.20140001 0.20188999 0.20237859 0.20286585 0.20335174\n",
      " 0.20383626 0.20431952 0.2048015  0.20528232 0.20576197 0.2062405\n",
      " 0.20671789 0.20719421 0.20766954 0.20814374 0.20861702 0.20908929\n",
      " 0.20956065 0.21003112 0.21050072 0.21096942 0.21143734 0.21190451\n",
      " 0.21237093 0.21283659 0.21330169 0.21376605 0.21422975 0.21469289\n",
      " 0.21515554 0.21561761 0.21607922 0.21654046 0.21700114 0.21746151\n",
      " 0.21792154 0.21838123 0.2188407  0.21929982 0.21975881 0.22021759\n",
      " 0.22067624 0.22113477 0.22159317 0.22205159 0.22250986 0.22296822\n",
      " 0.22342661 0.2238851  0.2243437  0.2248024 ]\n",
      "26 day output [[0.22526129]]\n",
      "27 day input [0.17590912 0.17634399 0.17679423 0.17726135 0.17774539 0.17824543\n",
      " 0.17876017 0.1792879  0.17982705 0.18037607 0.18093342 0.18149768\n",
      " 0.18206754 0.18264171 0.183219   0.18379818 0.18437816 0.18495807\n",
      " 0.18553695 0.18611407 0.18668874 0.18726052 0.18782893 0.18839368\n",
      " 0.1889545  0.18951134 0.190064   0.19061264 0.1911571  0.19169766\n",
      " 0.19223425 0.19276716 0.19329639 0.19382213 0.19434468 0.19486409\n",
      " 0.19538049 0.19589417 0.19640532 0.1969139  0.19742009 0.19792421\n",
      " 0.19842617 0.1989262  0.19942436 0.19992068 0.20041539 0.20090844\n",
      " 0.20140001 0.20188999 0.20237859 0.20286585 0.20335174 0.20383626\n",
      " 0.20431952 0.2048015  0.20528232 0.20576197 0.2062405  0.20671789\n",
      " 0.20719421 0.20766954 0.20814374 0.20861702 0.20908929 0.20956065\n",
      " 0.21003112 0.21050072 0.21096942 0.21143734 0.21190451 0.21237093\n",
      " 0.21283659 0.21330169 0.21376605 0.21422975 0.21469289 0.21515554\n",
      " 0.21561761 0.21607922 0.21654046 0.21700114 0.21746151 0.21792154\n",
      " 0.21838123 0.2188407  0.21929982 0.21975881 0.22021759 0.22067624\n",
      " 0.22113477 0.22159317 0.22205159 0.22250986 0.22296822 0.22342661\n",
      " 0.2238851  0.2243437  0.2248024  0.22526129]\n",
      "27 day output [[0.22572039]]\n",
      "28 day input [0.17634399 0.17679423 0.17726135 0.17774539 0.17824543 0.17876017\n",
      " 0.1792879  0.17982705 0.18037607 0.18093342 0.18149768 0.18206754\n",
      " 0.18264171 0.183219   0.18379818 0.18437816 0.18495807 0.18553695\n",
      " 0.18611407 0.18668874 0.18726052 0.18782893 0.18839368 0.1889545\n",
      " 0.18951134 0.190064   0.19061264 0.1911571  0.19169766 0.19223425\n",
      " 0.19276716 0.19329639 0.19382213 0.19434468 0.19486409 0.19538049\n",
      " 0.19589417 0.19640532 0.1969139  0.19742009 0.19792421 0.19842617\n",
      " 0.1989262  0.19942436 0.19992068 0.20041539 0.20090844 0.20140001\n",
      " 0.20188999 0.20237859 0.20286585 0.20335174 0.20383626 0.20431952\n",
      " 0.2048015  0.20528232 0.20576197 0.2062405  0.20671789 0.20719421\n",
      " 0.20766954 0.20814374 0.20861702 0.20908929 0.20956065 0.21003112\n",
      " 0.21050072 0.21096942 0.21143734 0.21190451 0.21237093 0.21283659\n",
      " 0.21330169 0.21376605 0.21422975 0.21469289 0.21515554 0.21561761\n",
      " 0.21607922 0.21654046 0.21700114 0.21746151 0.21792154 0.21838123\n",
      " 0.2188407  0.21929982 0.21975881 0.22021759 0.22067624 0.22113477\n",
      " 0.22159317 0.22205159 0.22250986 0.22296822 0.22342661 0.2238851\n",
      " 0.2243437  0.2248024  0.22526129 0.22572039]\n",
      "28 day output [[0.22617964]]\n",
      "29 day input [0.17679423 0.17726135 0.17774539 0.17824543 0.17876017 0.1792879\n",
      " 0.17982705 0.18037607 0.18093342 0.18149768 0.18206754 0.18264171\n",
      " 0.183219   0.18379818 0.18437816 0.18495807 0.18553695 0.18611407\n",
      " 0.18668874 0.18726052 0.18782893 0.18839368 0.1889545  0.18951134\n",
      " 0.190064   0.19061264 0.1911571  0.19169766 0.19223425 0.19276716\n",
      " 0.19329639 0.19382213 0.19434468 0.19486409 0.19538049 0.19589417\n",
      " 0.19640532 0.1969139  0.19742009 0.19792421 0.19842617 0.1989262\n",
      " 0.19942436 0.19992068 0.20041539 0.20090844 0.20140001 0.20188999\n",
      " 0.20237859 0.20286585 0.20335174 0.20383626 0.20431952 0.2048015\n",
      " 0.20528232 0.20576197 0.2062405  0.20671789 0.20719421 0.20766954\n",
      " 0.20814374 0.20861702 0.20908929 0.20956065 0.21003112 0.21050072\n",
      " 0.21096942 0.21143734 0.21190451 0.21237093 0.21283659 0.21330169\n",
      " 0.21376605 0.21422975 0.21469289 0.21515554 0.21561761 0.21607922\n",
      " 0.21654046 0.21700114 0.21746151 0.21792154 0.21838123 0.2188407\n",
      " 0.21929982 0.21975881 0.22021759 0.22067624 0.22113477 0.22159317\n",
      " 0.22205159 0.22250986 0.22296822 0.22342661 0.2238851  0.2243437\n",
      " 0.2248024  0.22526129 0.22572039 0.22617964]\n",
      "29 day output [[0.22663924]]\n",
      "[[0.21376605331897736], [0.2142297476530075], [0.2146928906440735], [0.21515554189682007], [0.2156176120042801], [0.2160792201757431], [0.21654045581817627], [0.21700114011764526], [0.2174615114927292], [0.21792154014110565], [0.21838122606277466], [0.21884070336818695], [0.2192998230457306], [0.2197588086128235], [0.22021758556365967], [0.2206762433052063], [0.22113476693630219], [0.22159317135810852], [0.22205159068107605], [0.22250986099243164], [0.2229682207107544], [0.22342661023139954], [0.22388510406017303], [0.2243437021970749], [0.2248024046421051], [0.22526128590106964], [0.2257203906774521], [0.22617964446544647], [0.22663924098014832]]\n"
     ]
    }
   ],
   "source": [
    "from numpy import array\n",
    "\n",
    "lst_output=[]\n",
    "n_steps=100\n",
    "i=1\n",
    "while(i<30):\n",
    "    if(len(temp_input)>100):\n",
    "        X_input=np.array(temp_input[1:])\n",
    "        print(\"{} day input {}\".format(i,X_input))\n",
    "        X_input=X_input.reshape(1,-1)\n",
    "        X_input=X_input.reshape(1,n_steps,1)\n",
    "        yhat = model.predict(X_input, verbose=0)\n",
    "        print(\"{} day output {}\".format(i,yhat))\n",
    "        temp_input.extend(yhat[0].tolist())\n",
    "        temp_input=temp_input[1:]\n",
    "        lst_output.extend(yhat.tolist())\n",
    "        i=i+1\n",
    "    else:\n",
    "        X_input = X_input.reshape((1, n_steps,1))\n",
    "        yhat = model.predict(X_input, verbose=0)\n",
    "        print(yhat[0])\n",
    "        temp_input.extend(yhat[0].tolist())\n",
    "        print(len(temp_input))\n",
    "        lst_output.extend(yhat.tolist())\n",
    "        i=i+1\n",
    "\n",
    "print(lst_output)"
   ]
  },
  {
   "cell_type": "code",
   "execution_count": 92,
   "metadata": {},
   "outputs": [],
   "source": [
    "day_new=np.arange(1,101)\n",
    "day_predict=np.arange(101,130)"
   ]
  },
  {
   "cell_type": "code",
   "execution_count": 81,
   "metadata": {},
   "outputs": [
    {
     "data": {
      "text/plain": [
       "2035"
      ]
     },
     "execution_count": 81,
     "metadata": {},
     "output_type": "execute_result"
    }
   ],
   "source": [
    "len(stock_data)"
   ]
  },
  {
   "cell_type": "code",
   "execution_count": 82,
   "metadata": {},
   "outputs": [],
   "source": [
    "stock_data1=stock_data.tolist()\n",
    "stock_data1.extend(lst_output)\n"
   ]
  },
  {
   "cell_type": "code",
   "execution_count": 91,
   "metadata": {},
   "outputs": [
    {
     "data": {
      "text/plain": [
       "[<matplotlib.lines.Line2D at 0x22f1798e6e0>]"
      ]
     },
     "execution_count": 91,
     "metadata": {},
     "output_type": "execute_result"
    },
    {
     "data": {
      "image/png": "[encoded data removed]",
      "text/plain": [
       "<Figure size 432x288 with 1 Axes>"
      ]
     },
     "metadata": {
      "needs_background": "light"
     },
     "output_type": "display_data"
    }
   ],
   "source": [
    "plt.plot(day_new,scaler.inverse_transform(stock_data[1935:]))\n",
    "plt.plot(day_predict,scaler.inverse_transform(lst_output))"
   ]
  }
 ],
 "metadata": {
  "kernelspec": {
   "display_name": "Python 3.10.3 64-bit",
   "language": "python",
   "name": "python3"
  },
  "language_info": {
   "codemirror_mode": {
    "name": "ipython",
    "version": 3
   },
   "file_extension": ".py",
   "mimetype": "text/x-python",
   "name": "python",
   "nbconvert_exporter": "python",
   "pygments_lexer": "ipython3",
   "version": "3.10.3"
  },
  "orig_nbformat": 4,
  "vscode": {
   "interpreter": {
    "hash": "63963b3f4c440940f0b94a3100916033a226cb4f45979123153792d60aa56d6a"
   }
  }
 },
 "nbformat": 4,
 "nbformat_minor": 2
}
